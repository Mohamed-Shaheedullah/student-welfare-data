{
 "cells": [
  {
   "cell_type": "code",
   "execution_count": null,
   "id": "746bde7e-689a-487a-801c-76548147d392",
   "metadata": {},
   "outputs": [],
   "source": []
  },
  {
   "cell_type": "code",
   "execution_count": 1,
   "id": "8aaadc69-a6d8-4e37-bcac-b4bd092ae7d0",
   "metadata": {},
   "outputs": [],
   "source": [
    "import numpy as np\n",
    "import pandas as pd\n",
    "import matplotlib.pyplot as plt"
   ]
  },
  {
   "cell_type": "code",
   "execution_count": 2,
   "id": "cf805b5f-bf2e-441a-bfb8-c0b55914c956",
   "metadata": {},
   "outputs": [],
   "source": [
    "student_df_cleaned = pd.read_csv('student_welfare_cleaned.csv')"
   ]
  },
  {
   "cell_type": "code",
   "execution_count": 3,
   "id": "798e29c4-0b5b-4144-8458-15e90600e9ca",
   "metadata": {},
   "outputs": [],
   "source": [
    "student_welfare_df_map = student_df_cleaned.groupby('location')['ResidualIncome'].sum()"
   ]
  },
  {
   "cell_type": "code",
   "execution_count": 4,
   "id": "f2c1f789-891f-4e64-8d0f-b3dc37faa260",
   "metadata": {},
   "outputs": [
    {
     "data": {
      "text/plain": [
       "location\n",
       "Bedfordshire and Hertfordshire                       9828.0\n",
       "Cheshire                                             2048.0\n",
       "Cornwall and Isles of Scilly                         1074.0\n",
       "Derbyshire and Nottinghamshire                      11974.0\n",
       "Devon                                                -118.0\n",
       "Dorset and Somerset                                 17920.0\n",
       "East Anglia                                          3705.0\n",
       "East Wales                                            782.0\n",
       "East Yorkshire and Northern Lincolnshire             8536.0\n",
       "Eastern Scotland                                     6752.0\n",
       "Essex                                                9965.0\n",
       "Gloucestershire, Wiltshire and Bath/Bristol area    -6288.0\n",
       "Greater Manchester                                  13221.0\n",
       "Hampshire and Isle of Wight                           966.0\n",
       "Highlands and Islands                                3708.0\n",
       "Inner London - East                                  4746.0\n",
       "Kent                                                 2008.0\n",
       "Lancashire                                          10921.0\n",
       "Leicestershire, Rutland and Northamptonshire        14596.0\n",
       "Merseyside                                          13998.0\n",
       "North Eastern Scotland                               7565.0\n",
       "Northern Ireland                                     8150.0\n",
       "Northumberland and Tyne and Wear                    33070.0\n",
       "Outer London - East and North East                  13788.0\n",
       "Outer London - South                                 2180.0\n",
       "Outer London - West and North West                  14972.0\n",
       "Shropshire and Staffordshire                         7236.0\n",
       "South Yorkshire                                      7670.0\n",
       "Southern Scotland                                    3892.0\n",
       "Surrey, East and West Sussex                         4284.0\n",
       "Tees Valley and Durham                                390.0\n",
       "West Central Scotland                                7505.0\n",
       "West Midlands                                        2432.0\n",
       "West Wales                                           1314.0\n",
       "Name: ResidualIncome, dtype: float64"
      ]
     },
     "execution_count": 4,
     "metadata": {},
     "output_type": "execute_result"
    }
   ],
   "source": [
    "student_welfare_df_map"
   ]
  },
  {
   "cell_type": "code",
   "execution_count": null,
   "id": "0ce09e3b-5649-49e8-b222-f6f8ecdce143",
   "metadata": {},
   "outputs": [],
   "source": []
  },
  {
   "cell_type": "code",
   "execution_count": null,
   "id": "5cbea2eb-1680-4e33-8817-c6b3bf7c2241",
   "metadata": {},
   "outputs": [],
   "source": []
  }
 ],
 "metadata": {
  "kernelspec": {
   "display_name": "Python 3 (ipykernel)",
   "language": "python",
   "name": "python3"
  },
  "language_info": {
   "codemirror_mode": {
    "name": "ipython",
    "version": 3
   },
   "file_extension": ".py",
   "mimetype": "text/x-python",
   "name": "python",
   "nbconvert_exporter": "python",
   "pygments_lexer": "ipython3",
   "version": "3.9.7"
  }
 },
 "nbformat": 4,
 "nbformat_minor": 5
}
